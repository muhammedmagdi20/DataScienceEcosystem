{
 "cells": [
  {
   "cell_type": "markdown",
   "id": "7e6bac28-38fb-402a-bf60-74e44ae45157",
   "metadata": {},
   "source": [
    "# Data Science Tools and Ecosystem"
   ]
  },
  {
   "cell_type": "markdown",
   "id": "0fc1f5e2-d7ff-4cdb-9aa2-6724308814f9",
   "metadata": {},
   "source": [
    "In this notebook, Data Science Tools and Ecosystem are summarized."
   ]
  },
  {
   "cell_type": "markdown",
   "id": "625edd2b-3b45-4c50-b595-5380aa87add4",
   "metadata": {},
   "source": [
    "Some of the popular languages that Data Scientists use are:\n",
    "1. Python \n",
    "2. R \n",
    "3. SQL"
   ]
  },
  {
   "cell_type": "markdown",
   "id": "4b4f3c2e-d04a-4653-91ff-7430d96104b2",
   "metadata": {},
   "source": [
    "Some of the commonly used libraries used by Data Scientists include:\n",
    "1. Pandas\n",
    "2. Numpy\n",
    "3. matplotlib\n",
    "4. seaborn"
   ]
  },
  {
   "cell_type": "markdown",
   "id": "8216adaa-6112-487e-a821-1368fced47ad",
   "metadata": {},
   "source": [
    "| Data Science Tools |\n",
    "|:--------------------:|\n",
    "| JupyterLab         |\n",
    "| Jupyter Notebook   |\n",
    "| RStudio            |\n",
    "| VS Code            |"
   ]
  },
  {
   "cell_type": "markdown",
   "id": "6d9a39f9-d13d-4f66-a222-39e763d85cd6",
   "metadata": {},
   "source": [
    "### Below are a few examples of evaluating arithmetic expressions in Python\n",
    "* (+)\n",
    "* (-)\n",
    "* (*)\n",
    "* (/)"
   ]
  },
  {
   "cell_type": "code",
   "execution_count": 6,
   "id": "bd10ae61-050f-464f-8151-fbb8fcf4dc0b",
   "metadata": {},
   "outputs": [
    {
     "data": {
      "text/plain": [
       "17"
      ]
     },
     "execution_count": 6,
     "metadata": {},
     "output_type": "execute_result"
    }
   ],
   "source": [
    "#This a simple arithmetic expression to mutiply then add integers\n",
    "(3*4)+5"
   ]
  },
  {
   "cell_type": "code",
   "execution_count": 5,
   "id": "a535f2a8-d126-4c4c-9db2-e69c5467a5ab",
   "metadata": {},
   "outputs": [
    {
     "name": "stdout",
     "output_type": "stream",
     "text": [
      "3.3333333333333335 hour\n"
     ]
    }
   ],
   "source": [
    "#This will convert 200 minutes to hours by diving by 60\n",
    "mins= 200\n",
    "hrs= mins/60\n",
    "print(hrs,\"hour\")"
   ]
  },
  {
   "cell_type": "markdown",
   "id": "c52db32e-768e-4619-ae83-7d6ee21dc346",
   "metadata": {},
   "source": [
    "**Objectives:**\n",
    "* Popular languages that Data Scientists use\n",
    "* Commonly used libraries used by Data Scientists\n",
    "* Data Science open source Tools\n",
    "* Few examples of evaluating arithmetic expressions in Python\n"
   ]
  },
  {
   "cell_type": "markdown",
   "id": "cffe41f8-b040-4693-abbd-05eab20896f8",
   "metadata": {},
   "source": [
    "## Author\n",
    "Muhammad Magdi Soliman"
   ]
  },
  {
   "cell_type": "code",
   "execution_count": null,
   "id": "346ed765-a21c-4ee4-8796-38c0beacf4ed",
   "metadata": {},
   "outputs": [],
   "source": []
  }
 ],
 "metadata": {
  "kernelspec": {
   "display_name": "Python 3 (ipykernel)",
   "language": "python",
   "name": "python3"
  },
  "language_info": {
   "codemirror_mode": {
    "name": "ipython",
    "version": 3
   },
   "file_extension": ".py",
   "mimetype": "text/x-python",
   "name": "python",
   "nbconvert_exporter": "python",
   "pygments_lexer": "ipython3",
   "version": "3.11.13"
  }
 },
 "nbformat": 4,
 "nbformat_minor": 5
}
